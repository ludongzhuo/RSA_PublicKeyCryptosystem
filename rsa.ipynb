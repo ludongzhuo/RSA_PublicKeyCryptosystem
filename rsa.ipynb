{
 "cells": [
  {
   "cell_type": "markdown",
   "metadata": {},
   "source": [
    "# 编程实现RSA密码系统"
   ]
  },
  {
   "cell_type": "code",
   "execution_count": 1,
   "metadata": {},
   "outputs": [],
   "source": [
    "import numpy as np\n",
    "import random\n",
    "\n",
    "\n",
    "def cut(obj, sec):\n",
    "    # 字符串切分\n",
    "    return [obj[i:i+sec] for i in range(0, len(obj), sec)]\n",
    "\n",
    "\n",
    "class RSA_PublicKeyCryptosystem:\n",
    "    def __init__(self, max_bit=14) -> None:\n",
    "        self.max_bit = max_bit\n",
    "        # 随机产生大素数p,q(位长默认14-bit)\n",
    "        # 先确定素数范围\n",
    "        max_ = 1 << self.max_bit\n",
    "\n",
    "        self.isPrime = np.ones(max_, dtype=int)\n",
    "        self.primes = []\n",
    "        for i in range(2, max_, 1):  # 素数筛法\n",
    "            if self.isPrime[i]:\n",
    "                if i >= (1 << (self.max_bit-1)):\n",
    "                    # 满足位长bit即加入选择范围\n",
    "                    self.primes.append(i)\n",
    "                for j in range(i+i, max_, i):\n",
    "                    self.isPrime[j] = 0\n",
    "\n",
    "        self.p, self.q = random.sample(self.primes, 2)\n",
    "        self.n = self.p * self.q\n",
    "\n",
    "        self.l = -1  # 密文信息空间需满足10^l<=n\n",
    "        tmp = 1\n",
    "        while True:\n",
    "            if tmp > self.n:\n",
    "                break\n",
    "            tmp *= 10\n",
    "            self.l += 1\n",
    "\n",
    "        # 随机产生公/私钥对(e,n)及d\n",
    "        self.phi = (self.p-1) * (self.q-1)\n",
    "        self.e = random.randint(2, self.phi-1)\n",
    "        while self.gcd(self.phi, self.e) != 1:\n",
    "            # 使φ与e互素\n",
    "            self.e = random.randint(2, self.phi-1)\n",
    "\n",
    "        _, self.d = self.ex_gcd(self.phi, self.e)\n",
    "        if self.d < 0:\n",
    "            self.d += self.phi  # 保证d为正\n",
    "\n",
    "    def Encryption(self, str_):  # 加密，可以满足汉字\n",
    "        # 对消息进行数字化\n",
    "        str_utf8 = str_.encode(\"UTF-8\")  # UTF-8编码\n",
    "        str_hex = str_utf8.hex()\n",
    "        str_digit = str(int(str_hex, 16))  # 转化为表示10进制的字符串\n",
    "        # 切分成满足大小的m序列\n",
    "        while(len(str_digit) % (self.l)):  # 前置0，方便分批处理\n",
    "            str_digit = '0' + str_digit\n",
    "        m_set = cut(str_digit, self.l)\n",
    "        c_str = \"\"\n",
    "        for m in m_set:\n",
    "            c = self.pow(int(m), self.e)\n",
    "            c_str += str(c).zfill(self.l+1)  # 大小有讲究\n",
    "\n",
    "        c_str = hex(int(c_str))[2:]  # 去除0x\n",
    "\n",
    "        if len(c_str) % 2:  # 位数为奇\n",
    "            c_str = '0' + c_str\n",
    "        str_utf8_ = bytes.fromhex(c_str)\n",
    "        # 此时进行UTF-8解码容易错误，因为不能严格解码，因此返回字符节bytes\n",
    "        return str_utf8_\n",
    "\n",
    "    def Decryption(self, str_utf8):  # 解密\n",
    "        # str_utf8 = str_.encode(\"UTF-8\")\n",
    "        str_hex = str_utf8.hex()\n",
    "        str_digit = str(int(str_hex, 16))  # 转化为表示10进制的字符串\n",
    "        # 切分成满足大小的c序列\n",
    "        while(len(str_digit) % (self.l+1)):  # 前置0\n",
    "            str_digit = '0' + str_digit\n",
    "\n",
    "        c_set = cut(str_digit, self.l+1)\n",
    "        m_str = \"\"\n",
    "        for c in c_set:\n",
    "            m = self.pow(int(c), self.d)\n",
    "            m_str += str(m).zfill(self.l)\n",
    "\n",
    "        m_str = hex(int(m_str))[2:]  # 去除0x\n",
    "\n",
    "        if len(m_str) % 2:  # 位数为奇\n",
    "            m_str = '0' + m_str\n",
    "        str_utf8_ = bytes.fromhex(m_str)\n",
    "        return str_utf8_.decode('UTF-8', 'ignore')  # UTF-8解码，忽略错误解码\n",
    "\n",
    "    def pow(self, x, y):  # 快速幂(模重复平方法)\n",
    "        ans = 1\n",
    "        while(y):\n",
    "            if(y & 1):\n",
    "                ans *= x\n",
    "                ans = ans % self.n\n",
    "            y = y >> 1\n",
    "            x = x*x\n",
    "            x = x % self.n\n",
    "        return ans\n",
    "\n",
    "    def gcd(self, a, b):\n",
    "        # 求解最大公因数\n",
    "        if(b == 0):\n",
    "            return a\n",
    "        return self.gcd(b, a % b)\n",
    "\n",
    "    def ex_gcd(self, a, b):  # 广义欧几里得算法\n",
    "        s = [0, 1, 0]\n",
    "        t = [0, 0, 1]\n",
    "        r = [a, b]\n",
    "        r.append(r[0] % r[1])\n",
    "        q = [0, 0, r[0] // r[1]]\n",
    "        # 注：空间复杂度可以改进\n",
    "        n = 3\n",
    "        while True:\n",
    "            q.append(r[n - 2] // r[n - 1])\n",
    "            r.append(r[n - 2] % r[n - 1])\n",
    "            s.append(s[n - 2] - (q[n - 1] * s[n - 1]))\n",
    "            t.append(t[n - 2] - (q[n - 1] * t[n - 1]))\n",
    "            if r[n] == 0:\n",
    "                break\n",
    "            n = n + 1\n",
    "        # print(\"s= \"+str(s[n]), \"t= \"+str(t[n]))\n",
    "        return s[n], t[n]\n"
   ]
  },
  {
   "cell_type": "code",
   "execution_count": 4,
   "metadata": {},
   "outputs": [
    {
     "name": "stdout",
     "output_type": "stream",
     "text": [
      "b'a\\\\\\xc9\\xd1\\xe3^\\x12\\x10\\xf1\\xdao\\x9cN^\\x807\\x08b\\xe8\\x03\\x7fJ\\xd7C\\x0ev\\xeb\\xa2\\x82MfAP4\\xd3_\\x9b\\xdb< @!\\x19\\xd3\\xbcx\\x9e\\x9c\\xbeg\\xda@\\x1d\\x8f\\xc0\\x86k\\xde\\x1dx\\xfa\\x0b\\x19\\xae\\xc7\\xe1R\\xf9>\\x9d%\\x8f\\xc9d\\x9f=<:'\n"
     ]
    }
   ],
   "source": [
    "rsa = RSA_PublicKeyCryptosystem(max_bit=14)\n",
    "secret = rsa.Encryption(\n",
    "    \"Mathematical Fundation of Information security + 201405001＋学号\")\n",
    "print(secret)\n"
   ]
  },
  {
   "cell_type": "code",
   "execution_count": 5,
   "metadata": {},
   "outputs": [
    {
     "data": {
      "text/plain": [
       "'Mathematical Fundation of Information security + 201405001＋学号'"
      ]
     },
     "execution_count": 5,
     "metadata": {},
     "output_type": "execute_result"
    }
   ],
   "source": [
    "rsa.Decryption(secret)\n"
   ]
  }
 ],
 "metadata": {
  "interpreter": {
   "hash": "3e99e53cff98010c5e986e84cf86219083c06c40531bcfc6d23cf98bbdf1088c"
  },
  "kernelspec": {
   "display_name": "Python 3.8.3 64-bit ('base': conda)",
   "language": "python",
   "name": "python3"
  },
  "language_info": {
   "codemirror_mode": {
    "name": "ipython",
    "version": 3
   },
   "file_extension": ".py",
   "mimetype": "text/x-python",
   "name": "python",
   "nbconvert_exporter": "python",
   "pygments_lexer": "ipython3",
   "version": "3.8.3"
  },
  "orig_nbformat": 4
 },
 "nbformat": 4,
 "nbformat_minor": 2
}
